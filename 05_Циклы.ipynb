{
 "cells": [
  {
   "cell_type": "markdown",
   "id": "9a150c50",
   "metadata": {},
   "source": [
    "05_Циклы"
   ]
  },
  {
   "cell_type": "markdown",
   "id": "9d00d5f6",
   "metadata": {},
   "source": [
    "Цикл - это выполнение чего либо несколько раз. Например : ходить в университет, качать героя в игре до максимального уровня, задавать вопрос пока пользователь не введет правил ответ и др."
   ]
  },
  {
   "cell_type": "code",
   "execution_count": 9,
   "id": "ab68c8c8",
   "metadata": {},
   "outputs": [
    {
     "name": "stdout",
     "output_type": "stream",
     "text": [
      "Кто создатель Python? щщщ\n",
      "Ответ не верный\n",
      "Кто создатель Python? ггг\n",
      "Ответ не верный\n",
      "Кто создатель Python? Гвидо\n",
      "Правильно!\n"
     ]
    }
   ],
   "source": [
    "# пример : Будем задавать вопрос , пока не получим првильный ответ : Кто создатель Python?.\n",
    "#способ 1- без цикла - с помощью условного оператора if\n",
    "name= input('Кто создатель Python? ')\n",
    "\n",
    "if name =='Гвидо' :\n",
    "    print('Правильно!')\n",
    "else :\n",
    "    print('Ответ не верный')\n",
    "    name= input('Кто создатель Python? ')\n",
    "    if name =='Гвидо' :\n",
    "        print('Правильно!')\n",
    "    else :\n",
    "        print('Ответ не верный')\n",
    "        name= input('Кто создатель Python? ')\n",
    "        if name =='Гвидо' :\n",
    "            print('Правильно!')\n",
    "        else :\n",
    "            print('Ответ не верный')"
   ]
  },
  {
   "cell_type": "code",
   "execution_count": 10,
   "id": "ed634217",
   "metadata": {},
   "outputs": [
    {
     "name": "stdout",
     "output_type": "stream",
     "text": [
      "Кто создатель Python? jj\n",
      "Ответ не верный\n",
      "Кто создатель Python? ооо\n",
      "Ответ не верный\n",
      "Кто создатель Python? Гвидо\n",
      "Правильно!\n"
     ]
    }
   ],
   "source": [
    "#способ 2- С ПОМОЩЬЮ ЦИКЛА WHILE \n",
    "name= input('Кто создатель Python? ')\n",
    "\n",
    "while name!='Гвидо' :\n",
    "    print('Ответ не верный')\n",
    "    name= input('Кто создатель Python? ')\n",
    "print('Правильно!')\n",
    "\n"
   ]
  },
  {
   "cell_type": "code",
   "execution_count": 14,
   "id": "9f173f75",
   "metadata": {},
   "outputs": [
    {
     "name": "stdout",
     "output_type": "stream",
     "text": [
      "Введите число90\n",
      "90\n",
      "91\n",
      "92\n",
      "93\n",
      "94\n",
      "95\n",
      "96\n",
      "97\n",
      "98\n",
      "99\n"
     ]
    }
   ],
   "source": [
    "# пример 2\n",
    "# Вывести числа все от 0 до 100\n",
    "num = int(input('Введите число'))\n",
    "\n",
    "while num<100 :\n",
    "    print(num)\n",
    "    num=num+1  #  будет выводить числа увеличенные на 1"
   ]
  },
  {
   "cell_type": "code",
   "execution_count": 26,
   "id": "ac4ef267",
   "metadata": {},
   "outputs": [
    {
     "name": "stdout",
     "output_type": "stream",
     "text": [
      "Введите число n 15\n",
      "2\n",
      "4\n",
      "6\n",
      "8\n",
      "10\n",
      "12\n",
      "14\n"
     ]
    }
   ],
   "source": [
    "# пример 3\n",
    "# Вывести ЧЕТНЫЕ числа все от 0 до n\n",
    "num=1\n",
    "n = int(input('Введите число n '))\n",
    "\n",
    "\n",
    "while num<= n :\n",
    "    if num%2==0 :\n",
    "        print(num)\n",
    "    num=num+1"
   ]
  },
  {
   "cell_type": "markdown",
   "id": "7e73fa66",
   "metadata": {},
   "source": [
    "ДОПОЛНИТЕЛЬНЫЕ ВОЗМОЖНОСТИ РАБОТЫ С ЦИКЛАМИ"
   ]
  },
  {
   "cell_type": "code",
   "execution_count": null,
   "id": "b0753309",
   "metadata": {},
   "outputs": [],
   "source": [
    "# Конструкции :\n",
    "# break\n",
    "# continue\n",
    "# while-else\n"
   ]
  },
  {
   "cell_type": "code",
   "execution_count": 28,
   "id": "cf601b0d",
   "metadata": {},
   "outputs": [
    {
     "name": "stdout",
     "output_type": "stream",
     "text": [
      "Кто создатель Python? rr\n",
      "Ответ нt верный\n",
      "Кто создатель Python? гвидо\n",
      "Ответ нt верный\n",
      "Кто создатель Python? Гвидо\n",
      "Правильно!\n"
     ]
    }
   ],
   "source": [
    "# break - позволяет ВЫЙТИ из цикла не зависимо от того Выполнился он или НЕТ\n",
    "name = None\n",
    "\n",
    "while name != 'Гвидо':\n",
    "        name= input('Кто создатель Python? ')\n",
    "        if name == 'Гвидо':\n",
    "            break\n",
    "        print('Ответ не верный')\n",
    "     \n",
    "print('Правильно!')\n",
    "\n",
    "    "
   ]
  },
  {
   "cell_type": "code",
   "execution_count": 34,
   "id": "4c79df2d",
   "metadata": {},
   "outputs": [
    {
     "name": "stdout",
     "output_type": "stream",
     "text": [
      "Введите число n 35\n",
      "1\n",
      "3\n",
      "5\n",
      "7\n",
      "9\n",
      "11\n",
      "13\n",
      "15\n",
      "17\n",
      "19\n",
      "21\n",
      "23\n",
      "25\n",
      "27\n",
      "29\n",
      "31\n",
      "33\n",
      "35\n"
     ]
    }
   ],
   "source": [
    "# continue- позволяет переходить на ледующую ИТЕРАЦИЮ цикла и НЕ выполнять команды которые стоят после continue\n",
    "num=0\n",
    "n = int(input('Введите число n '))\n",
    "\n",
    "\n",
    "while num<= n :\n",
    "    if num%2==0 :\n",
    "        num=num+1\n",
    "        continue\n",
    "    print(num)\n",
    "    num+=1\n",
    "\n",
    "\n",
    "\n"
   ]
  },
  {
   "cell_type": "code",
   "execution_count": 30,
   "id": "10f9c5b0",
   "metadata": {},
   "outputs": [
    {
     "name": "stdout",
     "output_type": "stream",
     "text": [
      "Введите число90\n",
      "90\n",
      "91\n",
      "92\n",
      "93\n",
      "94\n",
      "95\n",
      "96\n",
      "97\n",
      "98\n",
      "99\n",
      "еlse Конец\n",
      "Конец  всего\n"
     ]
    }
   ],
   "source": [
    "# while-else\n",
    "# Вывести числа все от 0 до 100\n",
    "num = int(input('Введите число'))\n",
    "\n",
    "while num<100 :\n",
    "    print(num)\n",
    "    num=num+1  #  будет выводить числа увеличенные на 1\n",
    "    \n",
    "else:\n",
    "    print('еlse Конец')\n",
    "    \n",
    "print('Конец  всего')"
   ]
  },
  {
   "cell_type": "code",
   "execution_count": 32,
   "id": "3513f9a6",
   "metadata": {},
   "outputs": [
    {
     "name": "stdout",
     "output_type": "stream",
     "text": [
      "Введите число30\n",
      "30\n",
      "31\n",
      "32\n",
      "Конец  всего\n"
     ]
    }
   ],
   "source": [
    "# Вывести числа все от 0 до 100  с применением break\n",
    "num = int(input('Введите число'))\n",
    "\n",
    "while num<100 :\n",
    "    print(num)\n",
    "    num=num+1 #  будет выводить числа увеличенные на 1\n",
    "    if num==33:\n",
    "        break                          # !!!!!!!!!!!!!!!!!!!!!!!! при этом условие в else НЕ ВЫПОЛНЯЕТСЯ\n",
    "    \n",
    "else:\n",
    "    print('еlse Конец')\n",
    "    \n",
    "print('Конец  всего')"
   ]
  },
  {
   "cell_type": "code",
   "execution_count": null,
   "id": "dddb6ab1",
   "metadata": {},
   "outputs": [],
   "source": []
  }
 ],
 "metadata": {
  "kernelspec": {
   "display_name": "Python 3 (ipykernel)",
   "language": "python",
   "name": "python3"
  },
  "language_info": {
   "codemirror_mode": {
    "name": "ipython",
    "version": 3
   },
   "file_extension": ".py",
   "mimetype": "text/x-python",
   "name": "python",
   "nbconvert_exporter": "python",
   "pygments_lexer": "ipython3",
   "version": "3.9.6"
  }
 },
 "nbformat": 4,
 "nbformat_minor": 5
}
