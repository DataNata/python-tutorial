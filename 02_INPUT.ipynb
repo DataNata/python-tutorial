{
 "cells": [
  {
   "cell_type": "markdown",
   "id": "0ca1b42a",
   "metadata": {},
   "source": [
    "02_INPUT"
   ]
  },
  {
   "cell_type": "code",
   "execution_count": null,
   "id": "f08a191a",
   "metadata": {},
   "outputs": [],
   "source": [
    "# Данная функция применяется с Параметром и без параметра"
   ]
  },
  {
   "cell_type": "code",
   "execution_count": 1,
   "id": "bd1c1a1e",
   "metadata": {},
   "outputs": [
    {
     "name": "stdout",
     "output_type": "stream",
     "text": [
      "Как тебя зовут : наталья\n",
      "Привет  наталья\n"
     ]
    }
   ],
   "source": [
    "name= input('Как тебя зовут : ')\n",
    "print('Привет ', name)"
   ]
  },
  {
   "cell_type": "code",
   "execution_count": 3,
   "id": "8ad69078",
   "metadata": {},
   "outputs": [
    {
     "name": "stdout",
     "output_type": "stream",
     "text": [
      "Как тебя зовут : Nata\n",
      "Привет  Nata\n",
      "Сколько тебе лет: 42\n",
      "мне лет 42\n",
      "<class 'str'>\n"
     ]
    }
   ],
   "source": [
    "# !!!! При вводе через эту функцию ЧИСЕЛ и др инфо- ТИП ДАННЫХ СТРОКА !!\n",
    "name= input('Как тебя зовут : ')\n",
    "print('Привет ', name)\n",
    "age = input('Сколько тебе лет: ')\n",
    "print('мне лет', age)\n",
    "print(type(age))"
   ]
  },
  {
   "cell_type": "code",
   "execution_count": 6,
   "id": "1c0028db",
   "metadata": {},
   "outputs": [
    {
     "name": "stdout",
     "output_type": "stream",
     "text": [
      "Сколько вам лет ?42\n",
      "Укажите период лет5\n",
      "Через  42 лет вам будет 47 лет\n"
     ]
    }
   ],
   "source": [
    "# Для избежания ошибок нужно сразу числовое значение из этой функции приводить к типу ЧИСЛО (int) :\n",
    "age= int(input('Сколько вам лет ?'))\n",
    "period= int(input(\"Укажите период лет\"))\n",
    "age_p=age+period\n",
    "print('Через ', age, 'лет',\"вам будет\" ,age_p, 'лет')\n"
   ]
  },
  {
   "cell_type": "code",
   "execution_count": null,
   "id": "16872ad4",
   "metadata": {},
   "outputs": [],
   "source": []
  }
 ],
 "metadata": {
  "kernelspec": {
   "display_name": "Python 3 (ipykernel)",
   "language": "python",
   "name": "python3"
  },
  "language_info": {
   "codemirror_mode": {
    "name": "ipython",
    "version": 3
   },
   "file_extension": ".py",
   "mimetype": "text/x-python",
   "name": "python",
   "nbconvert_exporter": "python",
   "pygments_lexer": "ipython3",
   "version": "3.9.6"
  }
 },
 "nbformat": 4,
 "nbformat_minor": 5
}
