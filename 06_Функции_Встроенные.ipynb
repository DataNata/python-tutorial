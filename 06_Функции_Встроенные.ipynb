{
 "cells": [
  {
   "cell_type": "markdown",
   "id": "a4112950",
   "metadata": {},
   "source": [
    "06_Функции"
   ]
  },
  {
   "cell_type": "markdown",
   "id": "586a3531",
   "metadata": {},
   "source": [
    "ВСТРОЕННЫЕ ФУНКЦИИ : с параментрами и без параментов"
   ]
  },
  {
   "cell_type": "code",
   "execution_count": 1,
   "id": "90855ce5",
   "metadata": {},
   "outputs": [],
   "source": [
    "#input()    # функция без параметра но возвращает результат"
   ]
  },
  {
   "cell_type": "code",
   "execution_count": 2,
   "id": "f2eaa645",
   "metadata": {},
   "outputs": [
    {
     "data": {
      "text/plain": [
       "3"
      ]
     },
     "execution_count": 2,
     "metadata": {},
     "output_type": "execute_result"
    }
   ],
   "source": [
    "len([12,34,55])        # функция возвращает длину"
   ]
  },
  {
   "cell_type": "code",
   "execution_count": 3,
   "id": "655709d6",
   "metadata": {},
   "outputs": [
    {
     "data": {
      "text/plain": [
       "48"
      ]
     },
     "execution_count": 3,
     "metadata": {},
     "output_type": "execute_result"
    }
   ],
   "source": [
    "abs(-48)         # модуль числа"
   ]
  },
  {
   "cell_type": "code",
   "execution_count": 4,
   "id": "9d6df53a",
   "metadata": {},
   "outputs": [
    {
     "data": {
      "text/plain": [
       "int"
      ]
     },
     "execution_count": 4,
     "metadata": {},
     "output_type": "execute_result"
    }
   ],
   "source": [
    "type(23)         # выводит тип"
   ]
  },
  {
   "cell_type": "code",
   "execution_count": 5,
   "id": "de9bb90c",
   "metadata": {},
   "outputs": [
    {
     "name": "stdout",
     "output_type": "stream",
     "text": [
      "Hello\n"
     ]
    }
   ],
   "source": [
    "print('Hello')                # выводит печать"
   ]
  },
  {
   "cell_type": "code",
   "execution_count": 6,
   "id": "95dad4d0",
   "metadata": {},
   "outputs": [
    {
     "data": {
      "text/plain": [
       "12"
      ]
     },
     "execution_count": 6,
     "metadata": {},
     "output_type": "execute_result"
    }
   ],
   "source": [
    "min([12,34,55])                     # выводит мин значение"
   ]
  },
  {
   "cell_type": "code",
   "execution_count": 7,
   "id": "35164878",
   "metadata": {},
   "outputs": [
    {
     "name": "stdout",
     "output_type": "stream",
     "text": [
      "6\n",
      "5.9\n"
     ]
    }
   ],
   "source": [
    "print(round(5.855))\n",
    "print(round(5.855,1))                       # округляет число"
   ]
  },
  {
   "cell_type": "code",
   "execution_count": 8,
   "id": "7a98a312",
   "metadata": {},
   "outputs": [
    {
     "data": {
      "text/plain": [
       "range(0, 6)"
      ]
     },
     "execution_count": 8,
     "metadata": {},
     "output_type": "execute_result"
    }
   ],
   "source": [
    " range(6)   # ф-я с парметром и возвращает знач\n"
   ]
  },
  {
   "cell_type": "code",
   "execution_count": 9,
   "id": "fcfb6978",
   "metadata": {},
   "outputs": [
    {
     "data": {
      "text/plain": [
       "range(0, 6)"
      ]
     },
     "execution_count": 9,
     "metadata": {},
     "output_type": "execute_result"
    }
   ],
   "source": [
    " range(6)   # ф-я с парметром и возвращает знач"
   ]
  },
  {
   "cell_type": "code",
   "execution_count": 10,
   "id": "5a63935a",
   "metadata": {},
   "outputs": [
    {
     "data": {
      "text/plain": [
       "101"
      ]
     },
     "execution_count": 10,
     "metadata": {},
     "output_type": "execute_result"
    }
   ],
   "source": [
    "sum([12,34,55])                     # выводит сумму значение"
   ]
  },
  {
   "cell_type": "code",
   "execution_count": 11,
   "id": "03428060",
   "metadata": {},
   "outputs": [
    {
     "name": "stdout",
     "output_type": "stream",
     "text": [
      "1 12\n",
      "2 34\n",
      "3 55\n",
      "4 55\n",
      "5 4\n",
      "6 66\n"
     ]
    }
   ],
   "source": [
    "spisok=[12,34,55,55,4,66]    # нумерует значение\n",
    "for num,spisok in enumerate (spisok,1):\n",
    "    print(num,spisok)"
   ]
  },
  {
   "cell_type": "markdown",
   "id": "ab63c6bd",
   "metadata": {},
   "source": [
    " ПРИМЕР 1. ввести 3 числа и найти мин, мах и сумму этих числел"
   ]
  },
  {
   "cell_type": "code",
   "execution_count": 12,
   "id": "153bcc73",
   "metadata": {},
   "outputs": [
    {
     "ename": "SyntaxError",
     "evalue": "invalid syntax (Temp/ipykernel_16252/1818372007.py, line 7)",
     "output_type": "error",
     "traceback": [
      "\u001b[1;36m  File \u001b[1;32m\"C:\\Users\\voila\\AppData\\Local\\Temp/ipykernel_16252/1818372007.py\"\u001b[1;36m, line \u001b[1;32m7\u001b[0m\n\u001b[1;33m    num.append(number)\u001b[0m\n\u001b[1;37m    ^\u001b[0m\n\u001b[1;31mSyntaxError\u001b[0m\u001b[1;31m:\u001b[0m invalid syntax\n"
     ]
    }
   ],
   "source": [
    "# так как нужно ввести всего 3 числа - составим цикл for и запишем эти три числа в список.\n",
    "\n",
    "num= []\n",
    "\n",
    "for  i in range(3):\n",
    "     number=int(input('Введите число')\n",
    "     num.append(number)            \n",
    "print(max(num))\n",
    "               \n",
    "        \n",
    "\n",
    "\n",
    "\n",
    "\n",
    "\n"
   ]
  },
  {
   "cell_type": "code",
   "execution_count": null,
   "id": "e5cd21e9",
   "metadata": {},
   "outputs": [],
   "source": []
  }
 ],
 "metadata": {
  "kernelspec": {
   "display_name": "Python 3 (ipykernel)",
   "language": "python",
   "name": "python3"
  },
  "language_info": {
   "codemirror_mode": {
    "name": "ipython",
    "version": 3
   },
   "file_extension": ".py",
   "mimetype": "text/x-python",
   "name": "python",
   "nbconvert_exporter": "python",
   "pygments_lexer": "ipython3",
   "version": "3.9.6"
  }
 },
 "nbformat": 4,
 "nbformat_minor": 5
}
