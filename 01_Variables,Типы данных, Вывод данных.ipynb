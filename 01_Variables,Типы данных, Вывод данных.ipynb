{
 "cells": [
  {
   "cell_type": "markdown",
   "id": "7afaf87e",
   "metadata": {},
   "source": [
    "Variables"
   ]
  },
  {
   "cell_type": "code",
   "execution_count": 1,
   "id": "ab2640dd",
   "metadata": {},
   "outputs": [],
   "source": [
    "# Объявление переменной, например\n",
    "name='Кеша'\n"
   ]
  },
  {
   "cell_type": "code",
   "execution_count": 2,
   "id": "e4187c8d",
   "metadata": {},
   "outputs": [
    {
     "name": "stdout",
     "output_type": "stream",
     "text": [
      "Кеша\n"
     ]
    }
   ],
   "source": [
    "#Вызов переменной\n",
    "print(name)"
   ]
  },
  {
   "cell_type": "code",
   "execution_count": 3,
   "id": "18ca45aa",
   "metadata": {},
   "outputs": [],
   "source": [
    "# Пример 1\n",
    "nameP='Кузя'\n",
    "age=1\n",
    "period=3"
   ]
  },
  {
   "cell_type": "code",
   "execution_count": 4,
   "id": "4d7396fa",
   "metadata": {},
   "outputs": [
    {
     "name": "stdout",
     "output_type": "stream",
     "text": [
      "Попугайчик \n",
      "Кузя\n",
      "возрастом\n",
      "1\n",
      "через\n",
      "3\n",
      "года, ему будет\n",
      "4\n"
     ]
    }
   ],
   "source": [
    "print(\"Попугайчик \")\n",
    "print(nameP)\n",
    "print('возрастом')\n",
    "print(age)\n",
    "print('через')\n",
    "print(period)\n",
    "print('года, ему будет')\n",
    "print(period+age)\n"
   ]
  },
  {
   "cell_type": "markdown",
   "id": "588d90df",
   "metadata": {},
   "source": [
    "ТИПЫ ДАННЫХ"
   ]
  },
  {
   "cell_type": "code",
   "execution_count": 5,
   "id": "019a724f",
   "metadata": {},
   "outputs": [
    {
     "name": "stdout",
     "output_type": "stream",
     "text": [
      "<class 'str'>\n",
      "<class 'int'>\n"
     ]
    }
   ],
   "source": [
    "data_bir='1988'\n",
    "print(type(data_bir))\n",
    "age=20\n",
    "print(type(age))"
   ]
  },
  {
   "cell_type": "code",
   "execution_count": 6,
   "id": "8d67eed3",
   "metadata": {},
   "outputs": [
    {
     "name": "stdout",
     "output_type": "stream",
     "text": [
      "<class 'int'>\n"
     ]
    }
   ],
   "source": [
    "age2=int(data_bir)+age\n",
    "\n",
    "print(type(age2))"
   ]
  },
  {
   "cell_type": "code",
   "execution_count": 7,
   "id": "8c1d98d5",
   "metadata": {},
   "outputs": [
    {
     "name": "stdout",
     "output_type": "stream",
     "text": [
      "<class 'str'>\n"
     ]
    }
   ],
   "source": [
    "age3=str(age)\n",
    "print(type(age3))"
   ]
  },
  {
   "cell_type": "markdown",
   "id": "9c755b9c",
   "metadata": {},
   "source": [
    "ВЫВОД ДАННЫХ"
   ]
  },
  {
   "cell_type": "code",
   "execution_count": 8,
   "id": "dd256207",
   "metadata": {},
   "outputs": [],
   "source": [
    "# ВЫВОД ЧЕРЕЗ PRINT  с помощью:\n",
    "# через ,\n",
    "# с помощью разделителя между словами :  sep=\n",
    "# с помощью разделителя между строками :  end="
   ]
  },
  {
   "cell_type": "code",
   "execution_count": 9,
   "id": "fbc6a261",
   "metadata": {},
   "outputs": [
    {
     "name": "stdout",
     "output_type": "stream",
     "text": [
      "Кузя 20\n"
     ]
    }
   ],
   "source": [
    "print(nameP,age)"
   ]
  },
  {
   "cell_type": "code",
   "execution_count": 10,
   "id": "00c1d980",
   "metadata": {},
   "outputs": [
    {
     "name": "stdout",
     "output_type": "stream",
     "text": [
      "Кузя/20\n"
     ]
    }
   ],
   "source": [
    "print(nameP,age, sep='/')"
   ]
  },
  {
   "cell_type": "code",
   "execution_count": 11,
   "id": "cd5dc17a",
   "metadata": {},
   "outputs": [
    {
     "name": "stdout",
     "output_type": "stream",
     "text": [
      "Кузя/20\n",
      "***********************"
     ]
    }
   ],
   "source": [
    "print(nameP,age, sep='/', end='\\n***********************')"
   ]
  },
  {
   "cell_type": "code",
   "execution_count": 12,
   "id": "5d428fce",
   "metadata": {},
   "outputs": [
    {
     "name": "stdout",
     "output_type": "stream",
     "text": [
      "Кузя/20***********************"
     ]
    }
   ],
   "source": [
    "print(nameP,age, sep='/', end='***********************')"
   ]
  },
  {
   "cell_type": "code",
   "execution_count": 13,
   "id": "95fb106d",
   "metadata": {},
   "outputs": [
    {
     "name": "stdout",
     "output_type": "stream",
     "text": [
      "Hello, \n",
      "Natalia\n"
     ]
    }
   ],
   "source": [
    "#Перенос данных на следующую строку  через :\\n\n",
    "\n",
    "print('Hello, \\nNatalia')"
   ]
  },
  {
   "cell_type": "code",
   "execution_count": 14,
   "id": "5b67e7e1",
   "metadata": {},
   "outputs": [
    {
     "name": "stdout",
     "output_type": "stream",
     "text": [
      "Летние меcясы это: Июнь, Июль,Август\n"
     ]
    }
   ],
   "source": [
    "\n",
    "months='Июнь, Июль,Август'\n",
    "print('Летние меcясы это:',months)"
   ]
  },
  {
   "cell_type": "code",
   "execution_count": 15,
   "id": "36984a1a",
   "metadata": {},
   "outputs": [
    {
     "name": "stdout",
     "output_type": "stream",
     "text": [
      "Летние меcясы это: \n",
      "Июнь, \n",
      "Июль,\n",
      "Август\n"
     ]
    }
   ],
   "source": [
    "months='\\nИюнь, \\nИюль,\\nАвгуст'\n",
    "print('Летние меcясы это:',months)"
   ]
  },
  {
   "cell_type": "code",
   "execution_count": 16,
   "id": "9785e9f3",
   "metadata": {},
   "outputs": [
    {
     "name": "stdout",
     "output_type": "stream",
     "text": [
      "Кузя;20;"
     ]
    }
   ],
   "source": [
    "\n",
    "# Вывод данных в одну строку\n",
    "# Пример1\n",
    "print(nameP, end=\";\")\n",
    "print(age, end=\";\")\n"
   ]
  },
  {
   "cell_type": "code",
   "execution_count": 17,
   "id": "7dce3634",
   "metadata": {},
   "outputs": [],
   "source": [
    "# Пример2 Вывести числа от 1 до 15  в столбец и в одну строку через запятую"
   ]
  },
  {
   "cell_type": "code",
   "execution_count": 18,
   "id": "37920769",
   "metadata": {},
   "outputs": [
    {
     "name": "stdout",
     "output_type": "stream",
     "text": [
      "0\n",
      "1\n",
      "2\n",
      "3\n",
      "4\n",
      "5\n",
      "6\n",
      "7\n",
      "8\n",
      "9\n",
      "10\n",
      "11\n",
      "12\n",
      "13\n",
      "14\n"
     ]
    }
   ],
   "source": [
    "for number in range (15):\n",
    "    print(number)"
   ]
  },
  {
   "cell_type": "code",
   "execution_count": 19,
   "id": "846107b3",
   "metadata": {},
   "outputs": [
    {
     "name": "stdout",
     "output_type": "stream",
     "text": [
      "0,1,2,3,4,5,6,7,8,9,10,11,12,13,14\n"
     ]
    }
   ],
   "source": [
    "for number in range (15):\n",
    "    if number<14:\n",
    "        print(number, end=',')\n",
    "    else:\n",
    "        print(number)"
   ]
  },
  {
   "cell_type": "code",
   "execution_count": 20,
   "id": "37e96629",
   "metadata": {},
   "outputs": [
    {
     "name": "stdout",
     "output_type": "stream",
     "text": [
      "0;1;2;3;4;"
     ]
    }
   ],
   "source": [
    "for i in range (5):\n",
    "    if i<5:\n",
    "        print(i, end=';')\n",
    "    else:\n",
    "        print(i)"
   ]
  },
  {
   "cell_type": "code",
   "execution_count": 20,
   "id": "51eed3a1",
   "metadata": {},
   "outputs": [],
   "source": []
  }
 ],
 "metadata": {
  "kernelspec": {
   "display_name": "Python 3 (ipykernel)",
   "language": "python",
   "name": "python3"
  },
  "language_info": {
   "codemirror_mode": {
    "name": "ipython",
    "version": 3
   },
   "file_extension": ".py",
   "mimetype": "text/x-python",
   "name": "python",
   "nbconvert_exporter": "python",
   "pygments_lexer": "ipython3",
   "version": "3.9.6"
  }
 },
 "nbformat": 4,
 "nbformat_minor": 5
}
