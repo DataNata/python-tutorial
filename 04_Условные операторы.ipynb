{
 "cells": [
  {
   "cell_type": "markdown",
   "id": "38e8fbea",
   "metadata": {},
   "source": [
    "04_Условные операторы"
   ]
  },
  {
   "cell_type": "code",
   "execution_count": null,
   "id": "56cd7a70",
   "metadata": {},
   "outputs": [],
   "source": [
    "# УСЛОВНЫЙ  ОПЕРАТОР IF"
   ]
  },
  {
   "cell_type": "code",
   "execution_count": 1,
   "id": "28ab746c",
   "metadata": {},
   "outputs": [
    {
     "name": "stdout",
     "output_type": "stream",
     "text": [
      "Сколько вам лет ?16\n",
      "Вам доступ запрещен\n",
      "какие то действия\n"
     ]
    }
   ],
   "source": [
    "# пример 1\n",
    "age=int(input('Сколько вам лет ?'))\n",
    "\n",
    "if age < 18 :\n",
    "    print ('Вам доступ запрещен')\n",
    "print('какие то действия')"
   ]
  },
  {
   "cell_type": "code",
   "execution_count": 2,
   "id": "2ced72b6",
   "metadata": {},
   "outputs": [
    {
     "name": "stdout",
     "output_type": "stream",
     "text": [
      "Сколько вам лет ?50\n",
      "Вам доступ РАЗРЕШЕН\n",
      "какие то действия\n"
     ]
    }
   ],
   "source": [
    "# пример 2\n",
    "age=int(input('Сколько вам лет ?'))\n",
    "\n",
    "if age < 18 :\n",
    "    print ('Вам доступ запрещен')\n",
    "else :\n",
    "    print ('Вам доступ РАЗРЕШЕН')\n",
    "print('какие то действия')"
   ]
  },
  {
   "cell_type": "code",
   "execution_count": 5,
   "id": "8f6384f5",
   "metadata": {},
   "outputs": [
    {
     "name": "stdout",
     "output_type": "stream",
     "text": [
      "Сколько вам лет ?37\n",
      "Вам НУЖНО\n",
      "какие то действия\n"
     ]
    }
   ],
   "source": [
    "# пример 3\n",
    "age=int(input('Сколько вам лет ?'))\n",
    "\n",
    "if age < 18 :\n",
    "    print ('Вам доступ запрещен')\n",
    "elif  age >=18 and age<30 :\n",
    "    print ('Вам можно')\n",
    "elif  age >=30 and age<40 :\n",
    "    print ('Вам НУЖНО')\n",
    "else :\n",
    "    print ('Вам доступ РАЗРЕШЕН')\n",
    "    \n",
    "    \n",
    "print('какие то действия')"
   ]
  },
  {
   "cell_type": "markdown",
   "id": "82fb88fd",
   "metadata": {},
   "source": [
    "ВЛОЖЕННЫЙ IF"
   ]
  },
  {
   "cell_type": "code",
   "execution_count": null,
   "id": "6264db6b",
   "metadata": {},
   "outputs": [],
   "source": [
    "# Пример  УГАДАЙ ЧИСЛО"
   ]
  },
  {
   "cell_type": "code",
   "execution_count": 10,
   "id": "4e1cf217",
   "metadata": {},
   "outputs": [
    {
     "name": "stdout",
     "output_type": "stream",
     "text": [
      "Введите число от 1 до 100 :55\n",
      "Нужно меньше\n"
     ]
    }
   ],
   "source": [
    "\n",
    "num = 45  # задали число\n",
    "values= int(input('Введите число от 1 до 100 :'))\n",
    "\n",
    "if values == num :\n",
    "    print('Вы угадали!!')\n",
    "else :\n",
    "    if values < num :\n",
    "        print('Нужно больше')\n",
    "    else  :\n",
    "        print('Нужно меньше')"
   ]
  },
  {
   "cell_type": "code",
   "execution_count": null,
   "id": "8355c913",
   "metadata": {},
   "outputs": [],
   "source": []
  },
  {
   "cell_type": "code",
   "execution_count": null,
   "id": "30d1b456",
   "metadata": {},
   "outputs": [],
   "source": []
  }
 ],
 "metadata": {
  "kernelspec": {
   "display_name": "Python 3 (ipykernel)",
   "language": "python",
   "name": "python3"
  },
  "language_info": {
   "codemirror_mode": {
    "name": "ipython",
    "version": 3
   },
   "file_extension": ".py",
   "mimetype": "text/x-python",
   "name": "python",
   "nbconvert_exporter": "python",
   "pygments_lexer": "ipython3",
   "version": "3.9.6"
  }
 },
 "nbformat": 4,
 "nbformat_minor": 5
}
