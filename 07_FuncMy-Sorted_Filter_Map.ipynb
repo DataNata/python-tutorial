{
 "cells": [
  {
   "cell_type": "markdown",
   "id": "57fc1cbd",
   "metadata": {},
   "source": [
    "07_Функции_Собственные"
   ]
  },
  {
   "cell_type": "markdown",
   "id": "28e8e76c",
   "metadata": {},
   "source": [
    "При повторном написании кода - можно создать ФУНКЦИЮ самостоятельно."
   ]
  },
  {
   "cell_type": "markdown",
   "id": "f7bc37fc",
   "metadata": {},
   "source": [
    "СИНТАКСИС:\n",
    "\n",
    "\n",
    "def my_function(argument):\n",
    "    print argument\n",
    "    \n",
    "ВЫЗОВ ФУНКЦИИ:\n",
    "\n",
    "my_function(\"abracadabra\")"
   ]
  },
  {
   "cell_type": "code",
   "execution_count": 7,
   "id": "3e6ee6d2",
   "metadata": {},
   "outputs": [],
   "source": [
    "# ФУНКЦИЯ - простой разделитель\n",
    "\n",
    "def print_sep ():\n",
    "    print('-'*100)\n",
    "    \n",
    "    \n",
    "# Вызываем эту функцию\n",
    "print_sep()"
   ]
  },
  {
   "cell_type": "code",
   "execution_count": 10,
   "id": "e144f618",
   "metadata": {},
   "outputs": [
    {
     "name": "stdout",
     "output_type": "stream",
     "text": [
      "**************************************************\n"
     ]
    }
   ],
   "source": [
    "# ФУНКЦИЯ - простой разделитель с изменяющимся знаком и длиной\n",
    "def print_sep(sep,sep_len):\n",
    "    print(sep* sep_len)\n",
    "    \n",
    "# Вызываем эту функцию\n",
    "print_sep('*', 50)"
   ]
  },
  {
   "cell_type": "markdown",
   "id": "9467ba77",
   "metadata": {},
   "source": [
    "ПАРАМЕТРЫ ФУНКЦИИ"
   ]
  },
  {
   "cell_type": "code",
   "execution_count": 12,
   "id": "467acc17",
   "metadata": {},
   "outputs": [
    {
     "name": "stdout",
     "output_type": "stream",
     "text": [
      "Hello Max\n"
     ]
    }
   ],
   "source": [
    "# функция БЕЗ параметров\n",
    "\n",
    "def hel_func():\n",
    "    print('Hello Max')\n",
    "    \n",
    "hel_func()"
   ]
  },
  {
   "cell_type": "code",
   "execution_count": null,
   "id": "e65370d7",
   "metadata": {},
   "outputs": [],
   "source": [
    "#1.функция с параметрами "
   ]
  },
  {
   "cell_type": "code",
   "execution_count": 13,
   "id": "6f79063b",
   "metadata": {},
   "outputs": [
    {
     "name": "stdout",
     "output_type": "stream",
     "text": [
      "Hello Leo\n"
     ]
    }
   ],
   "source": [
    "def hel_func(name):\n",
    "    print('Hello', name)\n",
    "    \n",
    "hel_func('Leo')"
   ]
  },
  {
   "cell_type": "code",
   "execution_count": 14,
   "id": "a1e3da19",
   "metadata": {},
   "outputs": [
    {
     "name": "stdout",
     "output_type": "stream",
     "text": [
      "Hello Nata\n"
     ]
    }
   ],
   "source": [
    "hel_func('Nata')"
   ]
  },
  {
   "cell_type": "code",
   "execution_count": 16,
   "id": "bf4fe9a3",
   "metadata": {},
   "outputs": [
    {
     "name": "stdout",
     "output_type": "stream",
     "text": [
      "Nata privet\n"
     ]
    }
   ],
   "source": [
    "#2.функция с параметрами\n",
    "\n",
    "def greeting(name,say):\n",
    "    print(name,say)\n",
    "    \n",
    "greeting('Nata','privet')"
   ]
  },
  {
   "cell_type": "code",
   "execution_count": 17,
   "id": "bb5d1e5d",
   "metadata": {},
   "outputs": [
    {
     "name": "stdout",
     "output_type": "stream",
     "text": [
      "Nata privet\n"
     ]
    }
   ],
   "source": [
    "#  или так высывем с указанием параметров- последовательность НЕ обязательна\n",
    "greeting(say='privet',name='Nata')"
   ]
  },
  {
   "cell_type": "code",
   "execution_count": 1,
   "id": "c700f66f",
   "metadata": {},
   "outputs": [
    {
     "name": "stdout",
     "output_type": "stream",
     "text": [
      "Nata hiy\n"
     ]
    }
   ],
   "source": [
    "#Аргументы, заданные по-умолчанию\n",
    "def greeting(name,say='hiy'):\n",
    "    print(name,say)\n",
    "    \n",
    "greeting('Nata')  # усли второй аргумент забыли ввести , то выведется тот что по умолчанию задан ('hiy')"
   ]
  },
  {
   "cell_type": "code",
   "execution_count": 3,
   "id": "9ab1642d",
   "metadata": {},
   "outputs": [
    {
     "name": "stdout",
     "output_type": "stream",
     "text": [
      "Nata privet\n"
     ]
    }
   ],
   "source": [
    "def greeting(name,say='hiy'):\n",
    "    print(name,say)\n",
    "    \n",
    "greeting('Nata','privet')"
   ]
  },
  {
   "cell_type": "markdown",
   "id": "8884b162",
   "metadata": {},
   "source": [
    "3.функция с параметрами :  Аргументы произвольной длины : args , kvargs\n",
    "#   *args\n",
    "#   **kvargs\n",
    "\n",
    "Иногда возникает ситуация, когда вы заранее не знаете, какое количество аргументов будет необходимо принять функции. \n",
    "В этом случае следует использовать аргументы произвольной длины. \n",
    "Они задаются произвольным именем переменной, перед которой ставится звездочка (*)"
   ]
  },
  {
   "cell_type": "code",
   "execution_count": 5,
   "id": "3fdf074e",
   "metadata": {},
   "outputs": [
    {
     "name": "stdout",
     "output_type": "stream",
     "text": [
      "hello\n",
      "world\n",
      "1\n",
      "2\n",
      "3\n",
      "4\n",
      "5\n"
     ]
    }
   ],
   "source": [
    "def unknown(*args):     # приходит кортедж\n",
    "    for i in args:\n",
    "        print (i)\n",
    " \n",
    "unknown(\"hello\",\"world\") # напечатает оба слова, каждое с новой строки\n",
    "unknown(1,2,3,4,5) # напечатает все числа, каждое с новой строки\n",
    "unknown() # ничего не выведет"
   ]
  },
  {
   "cell_type": "code",
   "execution_count": 8,
   "id": "3dd65ab3",
   "metadata": {},
   "outputs": [
    {
     "name": "stdout",
     "output_type": "stream",
     "text": [
      "mame Leo\n",
      "age 33\n",
      "child 3\n"
     ]
    }
   ],
   "source": [
    "def person (**kwargs):                   # приходит словарь\n",
    "    for k,v in kwargs.items():\n",
    "        print(k,v)\n",
    "        \n",
    "# вызов функии - передаем в нее сколько угодно аргументов\n",
    "person(mame='Leo',age=33,child=3)"
   ]
  },
  {
   "cell_type": "markdown",
   "id": "2213c974",
   "metadata": {},
   "source": [
    "Область видимости функций"
   ]
  },
  {
   "cell_type": "markdown",
   "id": "a6f6ebb5",
   "metadata": {},
   "source": [
    "Некоторые переменные скрипта могут быть недоступны некоторым областям программы. Все зависит от того, где вы объявили эти переменные.\n",
    "\n",
    "В Python две базовых области видимости переменных:\n",
    "\n",
    "# Глобальные переменные\n",
    "# Локальные переменные"
   ]
  },
  {
   "cell_type": "code",
   "execution_count": 11,
   "id": "247078fd",
   "metadata": {},
   "outputs": [
    {
     "name": "stdout",
     "output_type": "stream",
     "text": [
      "13\n",
      "14\n"
     ]
    }
   ],
   "source": [
    "# глобальная переменная age\n",
    "age = 13\n",
    " \n",
    "# функция изменяющая глобальную переменную\n",
    "def get_older():\n",
    "    global age\n",
    "    age += 1\n",
    " \n",
    "print(age) # напечатает 13\n",
    "get_older() # увеличиваем age на 1\n",
    "print(age) # напечатает 14"
   ]
  },
  {
   "cell_type": "markdown",
   "id": "9bf70108",
   "metadata": {},
   "source": [
    "# Рекурсия"
   ]
  },
  {
   "cell_type": "code",
   "execution_count": 13,
   "id": "bdad7b27",
   "metadata": {},
   "outputs": [],
   "source": [
    "# Это функция вызывает саму себя. Пример - посчитать факториал числа\n",
    "\n",
    "def fac(num):\n",
    "    if num ==0:\n",
    "        return 1\n",
    "    else :\n",
    "        return num*fac(num-1)\n",
    "    "
   ]
  },
  {
   "cell_type": "code",
   "execution_count": 14,
   "id": "b9053688",
   "metadata": {},
   "outputs": [
    {
     "data": {
      "text/plain": [
       "24"
      ]
     },
     "execution_count": 14,
     "metadata": {},
     "output_type": "execute_result"
    }
   ],
   "source": [
    "fac(4)   # факториал числа 4 это 1*2*3*4 =24"
   ]
  },
  {
   "cell_type": "markdown",
   "id": "e8025c7f",
   "metadata": {},
   "source": [
    " # Лямбда функция."
   ]
  },
  {
   "cell_type": "markdown",
   "id": "ab87028d",
   "metadata": {},
   "source": [
    "Небольшие функции в пару строк кода можно заменить анонимной функцией — lambda.\n",
    "Но это некий особенный тип функции с ограниченными возможностями. \n"
   ]
  },
  {
   "cell_type": "code",
   "execution_count": null,
   "id": "ca18e056",
   "metadata": {},
   "outputs": [],
   "source": [
    "# Напишем функцию по вычислению уравнения двумя способами функций:\n"
   ]
  },
  {
   "cell_type": "code",
   "execution_count": 15,
   "id": "4c9887a5",
   "metadata": {},
   "outputs": [
    {
     "data": {
      "text/plain": [
       "35"
      ]
     },
     "execution_count": 15,
     "metadata": {},
     "output_type": "execute_result"
    }
   ],
   "source": [
    "# обычная функция\n",
    "def uravnenie(x):\n",
    "    return x**2+x+5\n",
    "\n",
    "# вызов\n",
    "uravnenie(5)"
   ]
  },
  {
   "cell_type": "code",
   "execution_count": 18,
   "id": "d619c4bf",
   "metadata": {},
   "outputs": [
    {
     "data": {
      "text/plain": [
       "35"
      ]
     },
     "execution_count": 18,
     "metadata": {},
     "output_type": "execute_result"
    }
   ],
   "source": [
    "# обычная функция\n",
    "uravnenie=lambda x : x**2+x+5\n",
    "\n",
    "# вызов\n",
    "uravnenie(5)"
   ]
  },
  {
   "cell_type": "markdown",
   "id": "de538434",
   "metadata": {},
   "source": [
    "# ПРИМЕНЕНИЕ LAMBDA В SORT, FILTER, MAP, REDUCE\n"
   ]
  },
  {
   "cell_type": "markdown",
   "id": "aa3744e9",
   "metadata": {},
   "source": [
    "###  СОРТИРОВКА"
   ]
  },
  {
   "cell_type": "code",
   "execution_count": 33,
   "id": "73ef3682",
   "metadata": {},
   "outputs": [
    {
     "name": "stdout",
     "output_type": "stream",
     "text": [
      "[1, 5, 6, 6, 33, 55, 88]\n",
      "['Dasa', 'Leo', 'Nata']\n"
     ]
    }
   ],
   "source": [
    "# просто сортировка\n",
    "\n",
    "numbers=[33,1,5,6,88,55,6]\n",
    "x= sorted(numbers)\n",
    "print(x)\n",
    "\n",
    "\n",
    "names=['Leo','Nata','Dasa']\n",
    "x1=sorted(names)\n",
    "print(x1)"
   ]
  },
  {
   "cell_type": "code",
   "execution_count": null,
   "id": "82f4b6a5",
   "metadata": {},
   "outputs": [],
   "source": [
    "# просто сортировка в обрат подядке"
   ]
  },
  {
   "cell_type": "code",
   "execution_count": 34,
   "id": "ce290248",
   "metadata": {},
   "outputs": [
    {
     "name": "stdout",
     "output_type": "stream",
     "text": [
      "['Nata', 'Leo', 'Dasa']\n"
     ]
    }
   ],
   "source": [
    "names=['Leo','Nata','Dasa']\n",
    "x1=sorted(names,reverse=True)\n",
    "print(x1)"
   ]
  },
  {
   "cell_type": "code",
   "execution_count": 49,
   "id": "6d346b4b",
   "metadata": {},
   "outputs": [
    {
     "name": "stdout",
     "output_type": "stream",
     "text": [
      "[['Alma', 35], ['Minsk', 3], ['Moskva', 100]]\n"
     ]
    },
    {
     "data": {
      "text/plain": [
       "[['Minsk', 3], ['Alma', 35], ['Moskva', 100]]"
      ]
     },
     "execution_count": 49,
     "metadata": {},
     "output_type": "execute_result"
    }
   ],
   "source": [
    "# просто сортировка кортежа (города и население) записаны в перем city\n",
    "city=(['Moskva',100],['Alma',35],['Minsk',3])\n",
    "\n",
    "# Сортировка по АЛФАВИТУ- назв города\n",
    "x3= sorted(city)\n",
    "print(x3)\n",
    "\n",
    "\n",
    "# Сортировка по населению - с пом ЛЯМБДА функции - прим 1\n",
    "sorted(city, key =lambda x : x[1])    #  к НСЕЛЕНИЮ обратились через key\n"
   ]
  },
  {
   "cell_type": "code",
   "execution_count": 45,
   "id": "c819ead5",
   "metadata": {},
   "outputs": [
    {
     "data": {
      "text/plain": [
       "['Alma', 'Moskva', 'Minsk']"
      ]
     },
     "execution_count": 45,
     "metadata": {},
     "output_type": "execute_result"
    }
   ],
   "source": [
    "# 2 пример.Сортировка  списка по последней букве\n",
    "named=['Alma', 'Minsk', 'Moskva']\n",
    "    \n",
    "sorted(named, key=lambda x: x[-1])"
   ]
  },
  {
   "cell_type": "markdown",
   "id": "9553f0ca",
   "metadata": {},
   "source": [
    "###  ФИЛЬТРАЦИЯ"
   ]
  },
  {
   "cell_type": "code",
   "execution_count": 53,
   "id": "28001dd5",
   "metadata": {},
   "outputs": [
    {
     "name": "stdout",
     "output_type": "stream",
     "text": [
      "[2, 4, 6, 8]\n"
     ]
    }
   ],
   "source": [
    "# фильтрация последовательности.filter ( function,iterabl )\n",
    "names =(1,2,3,4,5,6,7,8)      # набор из кортежа\n",
    "\n",
    "# содать функцию фильтрации четный чисел\n",
    "def func_filt (names):\n",
    "    return names%2==0\n",
    "\n",
    "resalt=filter(func_filt,names)   # запишем функцию в переменную\n",
    "\n",
    "res_list=list(resalt)      # преоьразем кортеж в СПИСОК\n",
    "print(res_list)"
   ]
  },
  {
   "cell_type": "code",
   "execution_count": 57,
   "id": "ee022937",
   "metadata": {},
   "outputs": [],
   "source": [
    "# пример 2 - отфильтровать  имена длина которыз более трех символов с пом lambda\n",
    "pipl =['Nata','Leo','Ket']\n"
   ]
  },
  {
   "cell_type": "code",
   "execution_count": 63,
   "id": "ae111b37",
   "metadata": {},
   "outputs": [
    {
     "name": "stdout",
     "output_type": "stream",
     "text": [
      "['Nata']\n"
     ]
    }
   ],
   "source": [
    "\n",
    "print(list(filter(lambda x: len(x)>3,  pipl)))"
   ]
  },
  {
   "cell_type": "markdown",
   "id": "014a5de9",
   "metadata": {},
   "source": [
    "## ФУНКЦИЯ MAP - применяет функцию к каждому элементу последовательности"
   ]
  },
  {
   "cell_type": "code",
   "execution_count": 65,
   "id": "12a56a33",
   "metadata": {},
   "outputs": [
    {
     "name": "stdout",
     "output_type": "stream",
     "text": [
      "[16, 25, 36, 49, 64]\n"
     ]
    }
   ],
   "source": [
    "nam =[4,5,6,7,8]\n",
    "\n",
    "# выведем список квадратов значений списка nam\n",
    "\n",
    "print(list(map(lambda x: x**2,nam)))\n"
   ]
  },
  {
   "cell_type": "code",
   "execution_count": 66,
   "id": "44a64cfb",
   "metadata": {},
   "outputs": [
    {
     "name": "stdout",
     "output_type": "stream",
     "text": [
      "['4', '5', '6', '7', '8']\n"
     ]
    }
   ],
   "source": [
    "# пребьразуем в тип Строка каждое значение списка\n",
    "\n",
    "print(list(map(lambda x: str(x), nam)))"
   ]
  },
  {
   "cell_type": "markdown",
   "id": "7e73416f",
   "metadata": {},
   "source": [
    "# СОБСТВЕННЫЕ ФУНКЦИИ\n"
   ]
  },
  {
   "cell_type": "code",
   "execution_count": 28,
   "id": "3453bcca",
   "metadata": {},
   "outputs": [
    {
     "name": "stdout",
     "output_type": "stream",
     "text": [
      "10\n"
     ]
    }
   ],
   "source": [
    "#  объявим функцию f  которая возвращает число 10\n",
    "\n",
    "def f ():\n",
    "    return 10\n",
    "\n",
    "\n",
    "# вывод\n",
    "f()\n",
    "\n",
    "# запишем эту функцию в  переменную  resat\n",
    "resalt = f()\n",
    "print(resalt)\n",
    "\n"
   ]
  },
  {
   "cell_type": "code",
   "execution_count": 30,
   "id": "344f1dd6",
   "metadata": {},
   "outputs": [
    {
     "name": "stdout",
     "output_type": "stream",
     "text": [
      "<function f at 0x0000024FFC7664C0>\n",
      "10\n"
     ]
    }
   ],
   "source": [
    "a=f\n",
    "print(a)\n",
    "print(a())   # Т.о. функция  тоже ОБЪЕКТ , который мв можем записать в пременную и вызывать ее уже обращаясь к этой переменной (а)"
   ]
  },
  {
   "cell_type": "code",
   "execution_count": 19,
   "id": "ba96dbda",
   "metadata": {},
   "outputs": [],
   "source": [
    "# функция которая фильтрует и выводит из списка значений только четный числа\n",
    "\n",
    "def list_chet (num):\n",
    "    resalt=[]\n",
    "    for numbers in num:\n",
    "        if numbers%2==0:\n",
    "            resalt.append(numbers)\n",
    "        return resalt"
   ]
  },
  {
   "cell_type": "code",
   "execution_count": 22,
   "id": "4288dcba",
   "metadata": {},
   "outputs": [
    {
     "name": "stdout",
     "output_type": "stream",
     "text": [
      "[]\n"
     ]
    }
   ],
   "source": [
    "num=[1,2,3,4,5,6,7,8]\n",
    "print(list_chet(num))"
   ]
  }
 ],
 "metadata": {
  "kernelspec": {
   "display_name": "Python 3 (ipykernel)",
   "language": "python",
   "name": "python3"
  },
  "language_info": {
   "codemirror_mode": {
    "name": "ipython",
    "version": 3
   },
   "file_extension": ".py",
   "mimetype": "text/x-python",
   "name": "python",
   "nbconvert_exporter": "python",
   "pygments_lexer": "ipython3",
   "version": "3.9.6"
  }
 },
 "nbformat": 4,
 "nbformat_minor": 5
}
