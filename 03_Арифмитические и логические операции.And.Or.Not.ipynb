{
 "cells": [
  {
   "cell_type": "markdown",
   "id": "15827e1f",
   "metadata": {},
   "source": [
    "03_Арифмитические и логические операции.And.Or.Not"
   ]
  },
  {
   "cell_type": "code",
   "execution_count": null,
   "id": "b85a7ba0",
   "metadata": {},
   "outputs": [],
   "source": [
    "# arithmetic operators"
   ]
  },
  {
   "cell_type": "code",
   "execution_count": 1,
   "id": "1c9fedf9",
   "metadata": {},
   "outputs": [
    {
     "data": {
      "text/plain": [
       "5"
      ]
     },
     "execution_count": 1,
     "metadata": {},
     "output_type": "execute_result"
    }
   ],
   "source": [
    "2 + 3         # сложение"
   ]
  },
  {
   "cell_type": "code",
   "execution_count": 2,
   "id": "36a7b07b",
   "metadata": {},
   "outputs": [
    {
     "data": {
      "text/plain": [
       "5"
      ]
     },
     "execution_count": 2,
     "metadata": {},
     "output_type": "execute_result"
    }
   ],
   "source": [
    "10 - 5        # вычитание"
   ]
  },
  {
   "cell_type": "code",
   "execution_count": 3,
   "id": "b3cf23f3",
   "metadata": {},
   "outputs": [
    {
     "data": {
      "text/plain": [
       "6"
      ]
     },
     "execution_count": 3,
     "metadata": {},
     "output_type": "execute_result"
    }
   ],
   "source": [
    "2 * 3         # умножение"
   ]
  },
  {
   "cell_type": "code",
   "execution_count": 4,
   "id": "c9c0ce2f",
   "metadata": {},
   "outputs": [
    {
     "data": {
      "text/plain": [
       "1.6666666666666667"
      ]
     },
     "execution_count": 4,
     "metadata": {},
     "output_type": "execute_result"
    }
   ],
   "source": [
    "5 / 3         # деление"
   ]
  },
  {
   "cell_type": "code",
   "execution_count": 5,
   "id": "94c71ba5",
   "metadata": {},
   "outputs": [
    {
     "data": {
      "text/plain": [
       "6"
      ]
     },
     "execution_count": 5,
     "metadata": {},
     "output_type": "execute_result"
    }
   ],
   "source": [
    "20 // 3         # целая часть от деления"
   ]
  },
  {
   "cell_type": "code",
   "execution_count": 6,
   "id": "b5a77eaf",
   "metadata": {},
   "outputs": [
    {
     "data": {
      "text/plain": [
       "2"
      ]
     },
     "execution_count": 6,
     "metadata": {},
     "output_type": "execute_result"
    }
   ],
   "source": [
    "20%3             # остаток от деления"
   ]
  },
  {
   "cell_type": "code",
   "execution_count": 7,
   "id": "0f1da91c",
   "metadata": {},
   "outputs": [
    {
     "data": {
      "text/plain": [
       "125"
      ]
     },
     "execution_count": 7,
     "metadata": {},
     "output_type": "execute_result"
    }
   ],
   "source": [
    "5 ** 3         # возведение в степень"
   ]
  },
  {
   "cell_type": "code",
   "execution_count": 8,
   "id": "9aefce05",
   "metadata": {},
   "outputs": [
    {
     "data": {
      "text/plain": [
       "True"
      ]
     },
     "execution_count": 8,
     "metadata": {},
     "output_type": "execute_result"
    }
   ],
   "source": [
    "5==5        # равно"
   ]
  },
  {
   "cell_type": "code",
   "execution_count": 10,
   "id": "9d37a981",
   "metadata": {},
   "outputs": [
    {
     "data": {
      "text/plain": [
       "False"
      ]
     },
     "execution_count": 10,
     "metadata": {},
     "output_type": "execute_result"
    }
   ],
   "source": [
    "5!=5        # не равно"
   ]
  },
  {
   "cell_type": "code",
   "execution_count": 11,
   "id": "7e4305d9",
   "metadata": {},
   "outputs": [
    {
     "data": {
      "text/plain": [
       "True"
      ]
     },
     "execution_count": 11,
     "metadata": {},
     "output_type": "execute_result"
    }
   ],
   "source": [
    "6>5        # больше"
   ]
  },
  {
   "cell_type": "code",
   "execution_count": 12,
   "id": "c2533296",
   "metadata": {},
   "outputs": [
    {
     "data": {
      "text/plain": [
       "False"
      ]
     },
     "execution_count": 12,
     "metadata": {},
     "output_type": "execute_result"
    }
   ],
   "source": [
    "6<5        # меньше"
   ]
  },
  {
   "cell_type": "code",
   "execution_count": 13,
   "id": "f5307372",
   "metadata": {},
   "outputs": [
    {
     "data": {
      "text/plain": [
       "False"
      ]
     },
     "execution_count": 13,
     "metadata": {},
     "output_type": "execute_result"
    }
   ],
   "source": [
    "7>=8        # больше либо равно"
   ]
  },
  {
   "cell_type": "code",
   "execution_count": null,
   "id": "fd641b29",
   "metadata": {},
   "outputs": [],
   "source": [
    "8<=7        # меньше либо равно"
   ]
  },
  {
   "cell_type": "code",
   "execution_count": null,
   "id": "e8f62acc",
   "metadata": {},
   "outputs": [],
   "source": [
    "# Пример :  задать ввод возраста человека. перменную со средним возрастом  жизни 71. Вывести  : \n",
    "#-юбилей ли у человека, \n",
    "#-юбилей и ниже сред пролжительности жизни,\n",
    "#- НЕ юбилей или ниже сред пролжительности жизни,"
   ]
  },
  {
   "cell_type": "code",
   "execution_count": 21,
   "id": "ccf3f689",
   "metadata": {},
   "outputs": [
    {
     "name": "stdout",
     "output_type": "stream",
     "text": [
      "Сколько вам лет? 30\n",
      "У вас юбилей : True\n",
      "У вас НЕ юбилей: False\n",
      "У вас  юбилей  и ваш возраст ниже среднего : True\n",
      "У вас НЕ юбилей  и ваш возраст ниже среднего : False\n",
      "У вас НЕ юбилей  или ваш возраст ниже среднего : True\n"
     ]
    }
   ],
   "source": [
    "ale= 71    # сред продолж жизни\n",
    "age = int(input('Сколько вам лет? '))\n",
    "\n",
    "print ('У вас юбилей :', age%5==0)\n",
    "print('У вас НЕ юбилей:', age%5!=0)\n",
    "print ('У вас  юбилей  и ваш возраст ниже среднего :', age%5==0 and age<ale)\n",
    "print ('У вас НЕ юбилей  и ваш возраст ниже среднего :', age%5!=0 and age<ale)\n",
    "print ('У вас НЕ юбилей  или ваш возраст ниже среднего :', age%5!=0 or age<ale)"
   ]
  },
  {
   "cell_type": "code",
   "execution_count": null,
   "id": "9fdd9bb6",
   "metadata": {},
   "outputs": [],
   "source": []
  }
 ],
 "metadata": {
  "kernelspec": {
   "display_name": "Python 3 (ipykernel)",
   "language": "python",
   "name": "python3"
  },
  "language_info": {
   "codemirror_mode": {
    "name": "ipython",
    "version": 3
   },
   "file_extension": ".py",
   "mimetype": "text/x-python",
   "name": "python",
   "nbconvert_exporter": "python",
   "pygments_lexer": "ipython3",
   "version": "3.9.6"
  }
 },
 "nbformat": 4,
 "nbformat_minor": 5
}
